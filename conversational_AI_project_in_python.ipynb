{
  "nbformat": 4,
  "nbformat_minor": 0,
  "metadata": {
    "colab": {
      "provenance": []
    },
    "kernelspec": {
      "name": "python3",
      "display_name": "Python 3"
    },
    "language_info": {
      "name": "python"
    }
  },
  "cells": [
    {
      "cell_type": "code",
      "source": [
        "import nltk\n",
        "import random\n",
        "from nltk.chat.util import Chat, reflections # Changed 'chat' to 'Chat'\n",
        "\n",
        "#Define response for the chatbot\n",
        "pairs  = [\n",
        "    [\n",
        "        r\"my name is (.*)\",\n",
        "        [\"Hello %1, how can i help you today?\",]\n",
        "\n",
        "    ],\n",
        "    [\n",
        "        r\"what is your name?\",\n",
        "        [ \"My name is chatbot And I'm here to assist\",]\n",
        "\n",
        "    ],\n",
        "    [\n",
        "        r\"How are you ?\",\n",
        "        [\" I am doing good ,thank you!\",]\n",
        "    ],\n",
        "    [\n",
        "        r\"what can you do for me?\",\n",
        "        [\"I can answer your questions and assist you\",]\n",
        "\n",
        "    ],\n",
        "   [\n",
        "       r\"sorry(.*)\",\n",
        "       [\"It's alright ,no problem\"]\n",
        "\n",
        "   ],\n",
        "\n",
        "]\n",
        "# Change 'chat' to 'Chat' to match the import\n",
        "chatbot = Chat(pairs, reflections)\n",
        "def main():\n",
        "  print(\" hi I'm chatbot .How can i assist you today?\")\n",
        "  while True:\n",
        "    user_input = input(\"you : \")\n",
        "    response = chatbot.respond(user_input)\n",
        "    print(\"chatbot :\",response)\n",
        "    if user_input.lower() == \"quit \" :\n",
        "      break"
      ],
      "metadata": {
        "id": "aPpr5ESZQuD6"
      },
      "execution_count": null,
      "outputs": []
    },
    {
      "cell_type": "code",
      "source": [
        "main()"
      ],
      "metadata": {
        "colab": {
          "base_uri": "https://localhost:8080/"
        },
        "id": "bAKrrcGiQwKd",
        "outputId": "344b5e8e-b75d-406e-9a8e-355811bcf209"
      },
      "execution_count": null,
      "outputs": [
        {
          "output_type": "stream",
          "name": "stdout",
          "text": [
            " hi I'm chatbot .How can i assist you today?\n",
            "you : How are you\n",
            "chatbot :  I am doing good ,thank you!\n",
            "you : what is your name\n",
            "chatbot : My name is chatbot And I'm here to assist\n",
            "you : what can you do for me\n",
            "chatbot : I can answer your questions and assist you\n"
          ]
        }
      ]
    }
  ]
}